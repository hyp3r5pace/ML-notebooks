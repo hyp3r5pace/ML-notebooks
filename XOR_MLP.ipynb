{
  "nbformat": 4,
  "nbformat_minor": 0,
  "metadata": {
    "colab": {
      "name": "XOR_MLP.ipynb",
      "provenance": [],
      "authorship_tag": "ABX9TyNocyVdOIEJniJdpANBxUah",
      "include_colab_link": true
    },
    "kernelspec": {
      "name": "python3",
      "display_name": "Python 3"
    }
  },
  "cells": [
    {
      "cell_type": "markdown",
      "metadata": {
        "id": "view-in-github",
        "colab_type": "text"
      },
      "source": [
        "<a href=\"https://colab.research.google.com/github/hyp3r5pace/ML-notebooks/blob/main/XOR_MLP.ipynb\" target=\"_parent\"><img src=\"https://colab.research.google.com/assets/colab-badge.svg\" alt=\"Open In Colab\"/></a>"
      ]
    },
    {
      "cell_type": "markdown",
      "metadata": {
        "id": "pQrjkBu729sd"
      },
      "source": [
        "# **Understanding neural nets (building a basic MLP for XOR operations and understanding backprop in the process)**"
      ]
    },
    {
      "cell_type": "markdown",
      "metadata": {
        "id": "tEYA57T43PLE"
      },
      "source": [
        "### **why do we need MLP?**\n",
        "\n",
        "What is a perceptron or SLP? A perceptron is simply a linear binary classifier which can effectively classifiy between two classes which are linearly separable. But when it comes to non-linear classification, perceptron are ineffective. This can be seen in effect in case of XOR operations, which has two classes 0 and 1, and they are non linarly separable. Thus, a single line cannot separate between the two classes. A MLP is thus needed in such cases to effectively classify the two classes which are non-linearly classificable. \n",
        "We will try to understand how MLP works by taking the problem of XOR operation and try to build a MLP which can perform XOR operation.\n",
        "\n"
      ]
    },
    {
      "cell_type": "markdown",
      "metadata": {
        "id": "lgSrTDKG6DKL"
      },
      "source": [
        "## **XOR Operations**\n",
        "\n",
        "XOR table\n",
        "\n",
        "\n",
        "X             Y             output\n",
        "\n",
        "0             0               0\n",
        "\n",
        "1             0               1\n",
        "\n",
        "0             1               1\n",
        "\n",
        "1             1               0\n",
        "\n",
        "\n",
        "Now, in the XOR table, there are two types of class values, 0 and 1. Now, these classes are not linearly classifiable. This is because, no single plane can classify between the two classes. The data points (1,0) and (0,1) belonging to class 1 lie between points (0,0) and (1,1) belonging to class 0. Thus, if we consider only a single classifier line, it will not be able to classify apart points beloning to class 1 from both the points of class 0.\n",
        "\n",
        "This can be solved if we consider two lines, which collectively act as a binary classifier. One thing to consider in this case is that, activation function in this XOR classification is _heaviside step function_. This seems as the best activation for classification in case of XOR and also it helps in developing the intuition a lot easily. However, using sigmoid works too, which we will be using in this case as the dataset is very small and 100 % available for training weights.\n",
        "\n",
        "**Doubt: the weights from input node to each of the hidden layer represents one of the two classifier line (actually a plane). Initally, if weights for both the lines are initalized randomly, then how we can be sure that after training, the new set of input weights will not represent the same classifier line? Couldn't understand how backprop handles that?**\n",
        "\n",
        "So, our MLP for XOR problem will have:\n",
        "\n",
        "For input layer --> 2 non-bias node and 1 bias node\n",
        "\n",
        "Hidden layer --> 2 non bias node and 1 bias node\n",
        "\n",
        "Output layer --> 1 node\n",
        "\n",
        "Now let's code the MLP which can perform XOR operation. The MLP percieves the XOR problem as a classification problem, which is a correct valid perspective to the problem and works perfectly. \n",
        "\n",
        "When we do XOR operation, the rule learned (hypothesis) is matching both the input values, and if same then output is 0 otherwise 1. This algorithm is not learned by the MLP but what it learns is totally different hypothesis but finally both hypothesis gives the same result, thus are equivalent. In this case, MLP learns to map unequal input values to 1 and equal input values to 0.\n",
        "\n",
        "\n",
        "next, code the MLP for XOR operation\n"
      ]
    },
    {
      "cell_type": "code",
      "metadata": {
        "id": "c8CJaJr026dy"
      },
      "source": [
        "# importing necessary modules\n",
        "\n",
        "import pandas as pd\n",
        "import numpy as np\n",
        "import random\n",
        "import math\n",
        "import matplotlib.pyplot as plt"
      ],
      "execution_count": 34,
      "outputs": []
    },
    {
      "cell_type": "code",
      "metadata": {
        "id": "cqMXLA94dK6l"
      },
      "source": [
        "trainingFeatureValues = [[0, 0], [0, 1], [1, 0], [1, 1]]\n",
        "trainingClassValues = [0, 1, 1, 0]"
      ],
      "execution_count": 35,
      "outputs": []
    },
    {
      "cell_type": "code",
      "metadata": {
        "id": "T_2ycnD_dkhA"
      },
      "source": [
        "class multiLayerPerceptron:\n",
        "  def __init__(self, hiddenNodeWeights, outputNodeWeights, learningRate):\n",
        "    self.hiddenNodeWeights = hiddenNodeWeights\n",
        "    self.outputNodeWeights = outputNodeWeights\n",
        "    self.learningRate = learningRate\n",
        "    self.hiddenLayerOutput = [0, 0]\n",
        "    self.outputLayerOutput = 0\n",
        "  \n",
        "  def linearCombination(self, weights, inputs):\n",
        "    sum = 0\n",
        "    for i in range(len(weights[:-1])):\n",
        "      sum += (weights[i] * inputs[i])\n",
        "    sum += weights[-1]\n",
        "    return sum\n",
        "  \n",
        "  def activationFunction(self, sum):\n",
        "    return (1 / (1 + math.exp(-1 * sum)))\n",
        "  \n",
        "  def calcHiddenLayerOutput(self, inputs):\n",
        "    for i in range(len(self.hiddenLayerOutput)):\n",
        "      sum = self.linearCombination(self.hiddenNodeWeights[i], inputs)\n",
        "      self.hiddenLayerOutput[i] = self.activationFunction(sum)\n",
        "  \n",
        "  def calcOutputLayerOutput(self):\n",
        "    sum = self.linearCombination(self.outputNodeWeights, self.hiddenLayerOutput)\n",
        "    self.outputLayerOutput = self.activationFunction(sum)\n",
        "  \n",
        "  def forwardPass(self, input):\n",
        "    self.calcHiddenLayerOutput(input)\n",
        "    self.calcOutputLayerOutput()\n",
        "  \n",
        "  def trainWeights(self, featureValues, classValues, numOfEpochs):\n",
        "    iterations = 0\n",
        "\n",
        "    while (iterations <= numOfEpochs):\n",
        "      outputLayerGradient = [0.0, 0.0, 0.0]\n",
        "      hiddenLayerGradient = [[0.0, 0.0, 0.0], [0.0, 0.0, 0.0]]\n",
        "      for i in range(len(featureValues)):\n",
        "        # forward pass\n",
        "        self.forwardPass(featureValues[i])\n",
        "\n",
        "        # backprop\n",
        "        for j in range(len(outputLayerGradient[:-1])):\n",
        "          outputLayerGradient[j] += (self.outputLayerOutput - classValues[i]) * self.hiddenLayerOutput[j]\n",
        "        outputLayerGradient[-1] += (self.outputLayerOutput - classValues[i])\n",
        "\n",
        "        for j in range(len(hiddenLayerGradient)):\n",
        "          diff = (self.outputLayerOutput - classValues[i]) * self.outputNodeWeights[j]\n",
        "          for k in range(len(hiddenLayerGradient[j][:-1])):\n",
        "             hiddenLayerGradient[j][k] += diff * self.hiddenLayerOutput[j] * (1- self.hiddenLayerOutput[j]) * featureValues[i][k]\n",
        "          hiddenLayerGradient[j][-1] += diff * self.hiddenLayerOutput[j] * (1 - self.hiddenLayerOutput[j])\n",
        "      \n",
        "      for i in range(len(self.outputNodeWeights)):\n",
        "        self.outputNodeWeights[i] -= (self.learningRate / len(featureValues)) * outputLayerGradient[i]\n",
        "      \n",
        "      for i in range(len(self.hiddenNodeWeights)):\n",
        "        for j in range(len(self.hiddenNodeWeights[i])):\n",
        "          self.hiddenNodeWeights[i][j] -= (self.learningRate / len(featureValues)) * hiddenLayerGradient[i][j]\n",
        "      \n",
        "      iterations += 1\n",
        "    \n",
        "\n",
        "  def calcFinalClassValue(self, input):\n",
        "    self.forwardPass(input)\n",
        "    return (1 if (self.outputLayerOutput >= 0.5) else 0)\n",
        "\n",
        "  def evaluation(self, featureValues, classValues):\n",
        "    numOfMisclassification = 0\n",
        "    for i in range(len(featureValues)):\n",
        "      val = self.calcFinalClassValue(featureValues[i])\n",
        "      if (val != classValues[i]): numOfMisclassification += 1\n",
        "    return ((1 - (numOfMisclassification / len(featureValues))) * 100)\n"
      ],
      "execution_count": 36,
      "outputs": []
    },
    {
      "cell_type": "code",
      "metadata": {
        "id": "AhCYou8o0Chg"
      },
      "source": [
        "# creating a instance of MLP\n",
        "\n",
        "hiddenNodeWeights = [[0.2] * 3] * 2\n",
        "for i in range(len(hiddenNodeWeights)):\n",
        "  for j in range(len(hiddenNodeWeights[i])):\n",
        "    hiddenNodeWeights[i][j] = random.random()\n",
        "  hiddenNodeWeights[i] = random.sample(hiddenNodeWeights[i], k = 3)\n",
        "\n",
        "outputNodeWeights = [-0.1] * 3\n",
        "for i in range(len(outputNodeWeights)):\n",
        "  outputNodeWeights[i] = random.random()\n",
        "\n",
        "accuracy = []\n",
        "\n",
        "for epochs in range(1, 100000, 1000):\n",
        "  XORnet = multiLayerPerceptron(hiddenNodeWeights,  outputNodeWeights, 0.0001)\n",
        "\n",
        "  # training the MLP\n",
        "  XORnet.trainWeights(trainingFeatureValues, trainingClassValues, epochs)\n",
        "\n",
        "  # evaluation of the MLP\n",
        "  accuracy.append(XORnet.evaluation(trainingFeatureValues, trainingClassValues))"
      ],
      "execution_count": 61,
      "outputs": []
    },
    {
      "cell_type": "code",
      "metadata": {
        "id": "0RVbF5AlHvib",
        "outputId": "0d2b9310-78b7-49f4-89cf-2d37529aae59",
        "colab": {
          "base_uri": "https://localhost:8080/",
          "height": 279
        }
      },
      "source": [
        "numOfEpochs = [i for i in range(1, 100000, 1000)]\n",
        "plt.plot(numOfEpochs, accuracy)\n",
        "plt.xlabel('Number of Epochs')\n",
        "plt.ylabel('Accuracy')\n",
        "plt.show()"
      ],
      "execution_count": 62,
      "outputs": [
        {
          "output_type": "display_data",
          "data": {
            "image/png": "[encoded data removed]",
            "text/plain": [
              "<Figure size 432x288 with 1 Axes>"
            ]
          },
          "metadata": {
            "tags": [],
            "needs_background": "light"
          }
        }
      ]
    },
    {
      "cell_type": "code",
      "metadata": {
        "id": "fadshgUvF9mB",
        "outputId": "093d8a92-3809-47b2-b053-315cefd95b11",
        "colab": {
          "base_uri": "https://localhost:8080/",
          "height": 218
        }
      },
      "source": [
        "# testing the XOR MLP\n",
        "print(\"Input to hidden layer weights:\")\n",
        "print(XORnet.hiddenNodeWeights)\n",
        "print(\"Hidden to output layer weights:\")\n",
        "print(XORnet.outputNodeWeights)\n",
        "for input in trainingFeatureValues:\n",
        "  print(input)\n",
        "  print(\"Predicted output %d\" %(XORnet.calcFinalClassValue(input)))"
      ],
      "execution_count": 65,
      "outputs": [
        {
          "output_type": "stream",
          "text": [
            "Input to hidden layer weights:\n",
            "[[2.055341715204297, 2.045344033613403, -2.912232414720153], [5.134333295206039, 5.108969913689457, -1.5677425086387156]]\n",
            "Hidden to output layer weights:\n",
            "[-4.581707162072962, 5.4951270537147145, -2.6881786016364773]\n",
            "[0, 0]\n",
            "Predicted output 0\n",
            "[0, 1]\n",
            "Predicted output 1\n",
            "[1, 0]\n",
            "Predicted output 1\n",
            "[1, 1]\n",
            "Predicted output 0\n"
          ],
          "name": "stdout"
        }
      ]
    },
    {
      "cell_type": "code",
      "metadata": {
        "id": "66ELbLRqPk3e",
        "outputId": "a2d62246-c81e-4b2b-ee4b-929d195ab005",
        "colab": {
          "base_uri": "https://localhost:8080/",
          "height": 265
        }
      },
      "source": [
        "colour = ['red' if l == 1 else 'green' for l in trainingClassValues]\n",
        "x_val = [i / 100 for i in range(-20, 150, 10)]\n",
        "y_val = [(-1 * XORnet.hiddenNodeWeights[0][0] * i - XORnet.hiddenNodeWeights[0][2]) / XORnet.hiddenNodeWeights[0][1] for i in x_val]\n",
        "y_val1 = [(-1 * XORnet.hiddenNodeWeights[1][0] * i - XORnet.hiddenNodeWeights[1][2]) / XORnet.hiddenNodeWeights[1][1] for i in x_val]\n",
        "plt.scatter([0 , 0, 1, 1], [0, 1, 0, 1], color = colour)\n",
        "plt.plot(x_val, y_val)\n",
        "plt.plot(x_val, y_val1)\n",
        "plt.show()"
      ],
      "execution_count": 71,
      "outputs": [
        {
          "output_type": "display_data",
          "data": {
            "image/png": "[encoded data removed]",
            "text/plain": [
              "<Figure size 432x288 with 1 Axes>"
            ]
          },
          "metadata": {
            "tags": [],
            "needs_background": "light"
          }
        }
      ]
    }
  ]
}