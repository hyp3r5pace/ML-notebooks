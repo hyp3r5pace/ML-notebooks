{
  "nbformat": 4,
  "nbformat_minor": 0,
  "metadata": {
    "colab": {
      "name": "T-test.ipynb",
      "provenance": [],
      "collapsed_sections": [],
      "authorship_tag": "ABX9TyMcKr46NepT77x3sRAZI8FF",
      "include_colab_link": true
    },
    "kernelspec": {
      "name": "python3",
      "display_name": "Python 3"
    }
  },
  "cells": [
    {
      "cell_type": "markdown",
      "metadata": {
        "id": "view-in-github",
        "colab_type": "text"
      },
      "source": [
        "<a href=\"https://colab.research.google.com/github/hyp3r5pace/ML-notebooks/blob/main/T_test.ipynb\" target=\"_parent\"><img src=\"https://colab.research.google.com/assets/colab-badge.svg\" alt=\"Open In Colab\"/></a>"
      ]
    },
    {
      "cell_type": "markdown",
      "metadata": {
        "id": "rhezZJ2iY54x"
      },
      "source": [
        "# **One Sample T-test**"
      ]
    },
    {
      "cell_type": "code",
      "metadata": {
        "id": "7FrL2stld2UT",
        "outputId": "c9864e74-75c0-4fd8-9427-73cdbcc6bbff",
        "colab": {
          "base_uri": "https://localhost:8080/",
          "height": 318
        }
      },
      "source": [
        "# let's generate a random dataset\n",
        "# this is going to be the population\n",
        "\n",
        "#imports\n",
        "import numpy as np\n",
        "from scipy import stats\n",
        "import matplotlib.pyplot as plt\n",
        "import seaborn as sns\n",
        "population_size = 3000\n",
        "\n",
        "# generating a random normal (gaussian) distribution with mean = 3.2 and variance  = 1\n",
        "population = np.random.randn(population_size) + 3.2\n",
        "sns.distplot(population, hist=True, kde = True, bins = 35, color = 'darkblue', hist_kws = {'edgecolor':'black'}, kde_kws={'linewidth':4})\n",
        "plt.show()\n"
      ],
      "execution_count": null,
      "outputs": [
        {
          "output_type": "stream",
          "text": [
            "/usr/local/lib/python3.6/dist-packages/seaborn/distributions.py:2551: FutureWarning: `distplot` is a deprecated function and will be removed in a future version. Please adapt your code to use either `displot` (a figure-level function with similar flexibility) or `histplot` (an axes-level function for histograms).\n",
            "  warnings.warn(msg, FutureWarning)\n"
          ],
          "name": "stderr"
        },
        {
          "output_type": "display_data",
          "data": {
            "image/png": "[encoded data removed]",
            "text/plain": [
              "<Figure size 432x288 with 1 Axes>"
            ]
          },
          "metadata": {
            "tags": [],
            "needs_background": "light"
          }
        }
      ]
    },
    {
      "cell_type": "code",
      "metadata": {
        "id": "wQut4v3ImJTJ",
        "outputId": "aee5fb48-3837-4208-a8cd-a19b7afeff43",
        "colab": {
          "base_uri": "https://localhost:8080/"
        }
      },
      "source": [
        "# collect a sample of size 10 from the above population\n",
        "sample = np.random.choice(population, 15)\n",
        "\n",
        "# obtain the sample mean value\n",
        "# estimate of our population mean by the sample\n",
        "sample_mean = np.mean(sample)\n",
        "print('Sample mean: %f\\n' %(sample_mean))\n",
        "\n",
        "# assuming the set mean value  = 3.2\n",
        "# set mean value here is our claim that population mean is 3.2\n",
        "set_mean_value = 3.2\n",
        "\n",
        "# in this case, we will compare set mean value with sample mean, and prove using one sample t-Test that the sample mean is just due to some randomness and the mean\n",
        "# of original population is same as set value mean\n",
        "\n",
        "# stating the null hypothesis H0\n",
        "H0 = \"The original population mean and set value don't differ\\n\"\n",
        "# stating the alternate hypothesis H1\n",
        "H1 = \"The original population mean and set value differ\\n\"\n",
        "\n",
        "print(\"The null hypothesis H0: %s\" %(H0))\n",
        "print(\"The alternate hypothesis H1: %s\" %(H1))\n",
        "\n",
        "print('Computing the 1 sample t-test')\n",
        "#computing the one sample t-test\n",
        "tStatistics, pValue = stats.ttest_1samp(sample, 3.2)\n",
        "\n",
        "print('t-statistics: %f' %(tStatistics))\n",
        "print('p-value: %f' %(pValue))\n",
        "\n",
        "# assuming the significant level to be 0.025 or 2.5% (in two tail test, significance value becomes half)\n",
        "# two tail or non directional t-test is considered as we don't know the mean of the population and it can be either greater than 3.2 or less than 3.2\n",
        "# the mean of the sample can be significant for either values less than 3.2 or greater than 3.2 \n",
        "print('\\n\\nSince this is a two tail one sample t-test, the level of significance is assumed to be 0.025 or 2.5%\\n')\n",
        "if (pValue < 0.025):\n",
        "  print('p-value of the sample: %f < 0.025' %(pValue))\n",
        "  print('Thus, Rejecting the null hypothesis\\n\\n')\n",
        "else:\n",
        "  print('p-value of the sample: %f >= 0.025\\n' %(pValue))\n",
        "  print('Thus, Retaining the null hypothesis\\n\\n')\n"
      ],
      "execution_count": null,
      "outputs": [
        {
          "output_type": "stream",
          "text": [
            "Sample mean: 3.270265\n",
            "\n",
            "The null hypothesis H0: The original population mean and set value don't differ\n",
            "\n",
            "The alternate hypothesis H1: The original population mean and set value differ\n",
            "\n",
            "Computing the 1 sample t-test\n",
            "t-statistics: 0.246887\n",
            "p-value: 0.808579\n",
            "\n",
            "\n",
            "Since this is a two tail one sample t-test, the level of significance is assumed to be 0.025 or 2.5%\n",
            "\n",
            "p-value of the sample: 0.808579 >= 0.025\n",
            "\n",
            "Thus, Retaining the null hypothesis\n",
            "\n",
            "\n"
          ],
          "name": "stdout"
        }
      ]
    },
    {
      "cell_type": "code",
      "metadata": {
        "id": "AZzW8bELiIU0",
        "outputId": "1f609a4d-3b40-4574-8cbe-acdaabe1da6d",
        "colab": {
          "base_uri": "https://localhost:8080/"
        }
      },
      "source": [
        "# collect a sample of size 10 from the above population\n",
        "sample = np.random.choice(population, 15)\n",
        "\n",
        "# obtain the sample mean value\n",
        "# estimate of our population mean by the sample\n",
        "sample_mean = np.mean(sample)\n",
        "print('Sample mean: %f\\n' %(sample_mean))\n",
        "\n",
        "# assuming the set mean value  = 5.4\n",
        "# set mean value here is our claim that population mean is 5.4\n",
        "set_mean_value = 5.4\n",
        "\n",
        "# in this case, we will compare set mean value with sample mean, and prove using one sample t-Test that the sample mean is just due to some randomness and the mean\n",
        "# of original population is same as set value mean\n",
        "\n",
        "# stating the null hypothesis H0\n",
        "H0 = \"The original population mean and set value don't differ\\n\"\n",
        "# stating the alternate hypothesis H1\n",
        "H1 = \"The original population mean and set value differ\\n\"\n",
        "\n",
        "print(\"The null hypothesis H0: %s\" %(H0))\n",
        "print(\"The alternate hypothesis H1: %s\" %(H1))\n",
        "\n",
        "print('Computing the 1 sample t-test')\n",
        "#computing the one sample t-test\n",
        "tStatistics, pValue = stats.ttest_1samp(sample, set_mean_value)\n",
        "\n",
        "print('t-statistics: %f' %(tStatistics))\n",
        "print('p-value: %f' %(pValue))\n",
        "\n",
        "# assuming the significant level to be 0.025 or 2.5% (in two tail test, significance value becomes half)\n",
        "# two tail or non directional t-test is considered as we don't know the mean of the population and it can be either greater than 3.2 or less than 3.2\n",
        "# the mean of the sample can be significant for either values less than 3.2 or greater than 3.2 \n",
        "print('\\n\\nSince this is a two tail one sample t-test, the level of significance is assumed to be 0.025 or 2.5%\\n')\n",
        "if (pValue < 0.025):\n",
        "  print('p-value of the sample: %f < 0.025' %(pValue))\n",
        "  print('Thus, Rejecting the null hypothesis\\n\\n')\n",
        "else:\n",
        "  print('p-value of the sample: %f >= 0.025\\n' %(pValue))\n",
        "  print('Thus, Retaining the null hypothesis\\n\\n')\n"
      ],
      "execution_count": null,
      "outputs": [
        {
          "output_type": "stream",
          "text": [
            "Sample mean: 3.234013\n",
            "\n",
            "The null hypothesis H0: The original population mean and set value don't differ\n",
            "\n",
            "The alternate hypothesis H1: The original population mean and set value differ\n",
            "\n",
            "Computing the 1 sample t-test\n",
            "t-statistics: -9.478844\n",
            "p-value: 0.000000\n",
            "\n",
            "\n",
            "Since this is a two tail one sample t-test, the level of significance is assumed to be 0.025 or 2.5%\n",
            "\n",
            "p-value of the sample: 0.000000 < 0.025\n",
            "Thus, Rejecting the null hypothesis\n",
            "\n",
            "\n"
          ],
          "name": "stdout"
        }
      ]
    },
    {
      "cell_type": "markdown",
      "metadata": {
        "id": "rRFMJAJtiZd1"
      },
      "source": [
        "# **Independent Two Sample T-test**"
      ]
    },
    {
      "cell_type": "code",
      "metadata": {
        "id": "E33PJg4wjeSD",
        "outputId": "cdd04c1e-64dc-4329-9e29-d6bb511ac8c6",
        "colab": {
          "base_uri": "https://localhost:8080/",
          "height": 435
        }
      },
      "source": [
        "# generate two different random normally distributed datapoint set\n",
        "# these two set of datapoint will act as the two different population with same variance\n",
        "\n",
        "population1_size = 3000\n",
        "population2_size = 3000\n",
        "\n",
        "# generating a random normal (gaussian) distribution with mean = 3.2 and variance  = 1\n",
        "population1 = np.random.randn(population1_size) + 3.2\n",
        "sns.distplot(population1, hist=True, kde = True, bins = 35, color = 'darkblue', hist_kws = {'edgecolor':'black'}, kde_kws={'linewidth':4})\n",
        "print('\\n\\nMean of population 1: %f' %(3.2))\n",
        "\n",
        "#generating a random normal (gaussian) distribution with mean = 5.6 and variance = 1\n",
        "population2 = np.random.randn(population2_size) + 5.6\n",
        "print('Mean of population 2: %f' %(5.6))\n",
        "sns.distplot(population2, hist=True, kde = True, bins = 35, color = 'red', hist_kws = {'edgecolor':'black'}, kde_kws = {'linewidth':4})\n",
        "plt.title('Populations (same variance)')\n",
        "plt.show()"
      ],
      "execution_count": null,
      "outputs": [
        {
          "output_type": "stream",
          "text": [
            "/usr/local/lib/python3.6/dist-packages/seaborn/distributions.py:2551: FutureWarning: `distplot` is a deprecated function and will be removed in a future version. Please adapt your code to use either `displot` (a figure-level function with similar flexibility) or `histplot` (an axes-level function for histograms).\n",
            "  warnings.warn(msg, FutureWarning)\n",
            "/usr/local/lib/python3.6/dist-packages/seaborn/distributions.py:2551: FutureWarning: `distplot` is a deprecated function and will be removed in a future version. Please adapt your code to use either `displot` (a figure-level function with similar flexibility) or `histplot` (an axes-level function for histograms).\n",
            "  warnings.warn(msg, FutureWarning)\n"
          ],
          "name": "stderr"
        },
        {
          "output_type": "stream",
          "text": [
            "\n",
            "\n",
            "Mean of population 1: 3.200000\n",
            "Mean of population 2: 5.600000\n"
          ],
          "name": "stdout"
        },
        {
          "output_type": "display_data",
          "data": {
            "image/png": "[encoded data removed]",
            "text/plain": [
              "<Figure size 432x288 with 1 Axes>"
            ]
          },
          "metadata": {
            "tags": [],
            "needs_background": "light"
          }
        }
      ]
    },
    {
      "cell_type": "code",
      "metadata": {
        "id": "3uKQHMs56gNJ",
        "outputId": "4581d4e9-b8bd-4776-e3a0-9ab1c2ee4ee2",
        "colab": {
          "base_uri": "https://localhost:8080/"
        }
      },
      "source": [
        "# Null hypothesis\n",
        "H0 = \"The mean of the two population or group is same\"\n",
        "print('The null hypothesis: %s' %(H0))\n",
        "\n",
        "# alternate hypothesis\n",
        "H1 = \"The mean of the two population or group differ\"\n",
        "print('\\nThe alternate hypothesis: %s\\n\\n' %(H1))\n",
        "\n",
        "# generate a random sample from population 1\n",
        "sample1 = np.random.choice(population1, 15)\n",
        "sample2 = np.random.choice(population2, 20)\n",
        "\n",
        "# calculating the mean of the samples\n",
        "sample1_mean = np.mean(sample1)\n",
        "sample2_mean = np.mean(sample2)\n",
        "\n",
        "print('Mean of sample 1: %f' %(sample1_mean))\n",
        "print('Mean of sample 2: %f\\n' %(sample2_mean))\n",
        "\n",
        "# perform independent two sample t-test on the two samples to figure out their statistical significance\n",
        "print('Performing the independent two sample t-test\\n')\n",
        "tStatistics, pValue = stats.ttest_ind(sample1, sample2)\n",
        "\n",
        "print('tStatistics: %f' %(tStatistics))\n",
        "print('pValue: %f' %(pValue))\n",
        "# performing two tail t-test as we don't know if mean of population 1 is greater or less than mean of population 2\n",
        "print('\\n\\nSince this is a two tail one sample t-test, the level of significance is assumed to be 0.025 or 2.5%\\n')\n",
        "if (pValue < 0.025):\n",
        "  print('pValue < 0.025')\n",
        "  print('Thus, rejecting the null hypothesis')\n",
        "else:\n",
        "  print('pValue >= 0.025')\n",
        "  print('Thus, retaining the null hypothesis')\n",
        "\n"
      ],
      "execution_count": null,
      "outputs": [
        {
          "output_type": "stream",
          "text": [
            "The null hypothesis: The mean of the two population or group is same\n",
            "\n",
            "The alternate hypothesis: The mean of the two population or group differ\n",
            "\n",
            "\n",
            "Mean of sample 1: 3.091718\n",
            "Mean of sample 2: 5.993343\n",
            "\n",
            "Performing the independent two sample t-test\n",
            "\n",
            "tStatistics: -7.300459\n",
            "pValue: 0.000000\n",
            "\n",
            "\n",
            "Since this is a two tail one sample t-test, the level of significance is assumed to be 0.025 or 2.5%\n",
            "\n",
            "pValue < 0.025\n",
            "Thus, rejecting the null hypothesis\n"
          ],
          "name": "stdout"
        }
      ]
    },
    {
      "cell_type": "code",
      "metadata": {
        "id": "oNmbIfsKx0kP",
        "outputId": "0d95beae-e45f-4032-d804-d8823c526e52",
        "colab": {
          "base_uri": "https://localhost:8080/",
          "height": 435
        }
      },
      "source": [
        "# generate two different random normally distributed datapoint set\n",
        "# these two set of datapoint will act as the two different population with same variance\n",
        "\n",
        "population1_size = 3000\n",
        "population2_size = 3000\n",
        "\n",
        "# generating a random normal (gaussian) distribution with mean = 3.2 and variance  = 1\n",
        "population1 = np.random.randn(population1_size) + 3.2\n",
        "sns.distplot(population1, hist=True, kde = True, bins = 35, color = 'darkblue', hist_kws = {'edgecolor':'black'}, kde_kws={'linewidth':4})\n",
        "print('\\n\\nMean of population 1: %f' %(3.2))\n",
        "\n",
        "#generating a random normal (gaussian) distribution with mean = 5.6 and variance = 1\n",
        "population2 = np.random.randn(population2_size) + 3.2\n",
        "print('Mean of population 2: %f' %(3.2))\n",
        "sns.distplot(population2, hist=True, kde = True, bins = 35, color = 'red', hist_kws = {'edgecolor':'black'}, kde_kws = {'linewidth':4})\n",
        "plt.title('Populations (same variance)')\n",
        "plt.show()"
      ],
      "execution_count": null,
      "outputs": [
        {
          "output_type": "stream",
          "text": [
            "/usr/local/lib/python3.6/dist-packages/seaborn/distributions.py:2551: FutureWarning: `distplot` is a deprecated function and will be removed in a future version. Please adapt your code to use either `displot` (a figure-level function with similar flexibility) or `histplot` (an axes-level function for histograms).\n",
            "  warnings.warn(msg, FutureWarning)\n",
            "/usr/local/lib/python3.6/dist-packages/seaborn/distributions.py:2551: FutureWarning: `distplot` is a deprecated function and will be removed in a future version. Please adapt your code to use either `displot` (a figure-level function with similar flexibility) or `histplot` (an axes-level function for histograms).\n",
            "  warnings.warn(msg, FutureWarning)\n"
          ],
          "name": "stderr"
        },
        {
          "output_type": "stream",
          "text": [
            "\n",
            "\n",
            "Mean of population 1: 3.200000\n",
            "Mean of population 2: 3.200000\n"
          ],
          "name": "stdout"
        },
        {
          "output_type": "display_data",
          "data": {
            "image/png": "[encoded data removed]",
            "text/plain": [
              "<Figure size 432x288 with 1 Axes>"
            ]
          },
          "metadata": {
            "tags": [],
            "needs_background": "light"
          }
        }
      ]
    },
    {
      "cell_type": "code",
      "metadata": {
        "id": "-S4Qw8FbyVl5",
        "outputId": "341954d6-aa3f-489c-c683-3e6fafad0f93",
        "colab": {
          "base_uri": "https://localhost:8080/"
        }
      },
      "source": [
        "# Null hypothesis\n",
        "H0 = \"The mean of the two population or group is same\"\n",
        "print('The null hypothesis: %s' %(H0))\n",
        "\n",
        "# alternate hypothesis\n",
        "H1 = \"The mean of the two population or group differ\"\n",
        "print('\\nThe alternate hypothesis: %s\\n\\n' %(H1))\n",
        "\n",
        "# generate a random sample from population 1\n",
        "sample1 = np.random.choice(population1, 15)\n",
        "sample2 = np.random.choice(population2, 20)\n",
        "\n",
        "# calculating the mean of the samples\n",
        "sample1_mean = np.mean(sample1)\n",
        "sample2_mean = np.mean(sample2)\n",
        "\n",
        "print('Mean of sample 1: %f' %(sample1_mean))\n",
        "print('Mean of sample 2: %f\\n' %(sample2_mean))\n",
        "\n",
        "# perform independent two sample t-test on the two samples to figure out their statistical significance\n",
        "print('Performing the independent two sample t-test\\n')\n",
        "tStatistics, pValue = stats.ttest_ind(sample1, sample2)\n",
        "\n",
        "print('tStatistics: %f' %(tStatistics))\n",
        "print('pValue: %f' %(pValue))\n",
        "# performing two tail t-test as we don't know if mean of population 1 is greater or less than mean of population 2\n",
        "print('\\n\\nSince this is a two tail one sample t-test, the level of significance is assumed to be 0.025 or 2.5%\\n')\n",
        "if (pValue < 0.025):\n",
        "  print('Since, p-value < 0.025')\n",
        "  print('Thus, rejecting the null hypothesis')\n",
        "else:\n",
        "  print('Since, p-value >= 0.025')\n",
        "  print('Thus, retaining the null hypothesis')"
      ],
      "execution_count": null,
      "outputs": [
        {
          "output_type": "stream",
          "text": [
            "The null hypothesis: The mean of the two population or group is same\n",
            "\n",
            "The alternate hypothesis: The mean of the two population or group differ\n",
            "\n",
            "\n",
            "Mean of sample 1: 3.014566\n",
            "Mean of sample 2: 3.104819\n",
            "\n",
            "Performing the independent two sample t-test\n",
            "\n",
            "tStatistics: -0.331321\n",
            "pValue: 0.742497\n",
            "\n",
            "\n",
            "Since this is a two tail one sample t-test, the level of significance is assumed to be 0.025 or 2.5%\n",
            "\n",
            "Since, p-value >= 0.025\n",
            "Thus, retaining the null hypothesis\n"
          ],
          "name": "stdout"
        }
      ]
    },
    {
      "cell_type": "markdown",
      "metadata": {
        "id": "vCbmtiBY1fRm"
      },
      "source": [
        "# **Paired Sample T-Test**"
      ]
    },
    {
      "cell_type": "code",
      "metadata": {
        "id": "Ftk4hpXa1kCv"
      },
      "source": [
        "# imports\n",
        "import numpy as np\n",
        "import pandas as pd\n",
        "from scipy import stats\n",
        "import matplotlib.pyplot as plt\n",
        "import seaborn as sns"
      ],
      "execution_count": null,
      "outputs": []
    },
    {
      "cell_type": "code",
      "metadata": {
        "id": "4jCc4WNJ9Lf5",
        "outputId": "0b7cf85d-6f39-4e8c-c30a-2a04c929cdc6",
        "colab": {
          "base_uri": "https://localhost:8080/",
          "height": 402
        }
      },
      "source": [
        "# load the dataset\n",
        "df = pd.read_csv('blood_pressure.csv')\n",
        "df = df.drop(['patient', 'sex', 'agegrp'], axis=1)\n",
        "df.head(200)"
      ],
      "execution_count": null,
      "outputs": [
        {
          "output_type": "execute_result",
          "data": {
            "text/html": [
              "<div>\n",
              "<style scoped>\n",
              "    .dataframe tbody tr th:only-of-type {\n",
              "        vertical-align: middle;\n",
              "    }\n",
              "\n",
              "    .dataframe tbody tr th {\n",
              "        vertical-align: top;\n",
              "    }\n",
              "\n",
              "    .dataframe thead th {\n",
              "        text-align: right;\n",
              "    }\n",
              "</style>\n",
              "<table border=\"1\" class=\"dataframe\">\n",
              "  <thead>\n",
              "    <tr style=\"text-align: right;\">\n",
              "      <th></th>\n",
              "      <th>bp_before</th>\n",
              "      <th>bp_after</th>\n",
              "    </tr>\n",
              "  </thead>\n",
              "  <tbody>\n",
              "    <tr>\n",
              "      <th>0</th>\n",
              "      <td>143</td>\n",
              "      <td>153</td>\n",
              "    </tr>\n",
              "    <tr>\n",
              "      <th>1</th>\n",
              "      <td>163</td>\n",
              "      <td>170</td>\n",
              "    </tr>\n",
              "    <tr>\n",
              "      <th>2</th>\n",
              "      <td>153</td>\n",
              "      <td>168</td>\n",
              "    </tr>\n",
              "    <tr>\n",
              "      <th>3</th>\n",
              "      <td>153</td>\n",
              "      <td>142</td>\n",
              "    </tr>\n",
              "    <tr>\n",
              "      <th>4</th>\n",
              "      <td>146</td>\n",
              "      <td>141</td>\n",
              "    </tr>\n",
              "    <tr>\n",
              "      <th>...</th>\n",
              "      <td>...</td>\n",
              "      <td>...</td>\n",
              "    </tr>\n",
              "    <tr>\n",
              "      <th>115</th>\n",
              "      <td>152</td>\n",
              "      <td>152</td>\n",
              "    </tr>\n",
              "    <tr>\n",
              "      <th>116</th>\n",
              "      <td>161</td>\n",
              "      <td>152</td>\n",
              "    </tr>\n",
              "    <tr>\n",
              "      <th>117</th>\n",
              "      <td>165</td>\n",
              "      <td>174</td>\n",
              "    </tr>\n",
              "    <tr>\n",
              "      <th>118</th>\n",
              "      <td>149</td>\n",
              "      <td>151</td>\n",
              "    </tr>\n",
              "    <tr>\n",
              "      <th>119</th>\n",
              "      <td>185</td>\n",
              "      <td>163</td>\n",
              "    </tr>\n",
              "  </tbody>\n",
              "</table>\n",
              "<p>120 rows × 2 columns</p>\n",
              "</div>"
            ],
            "text/plain": [
              "     bp_before  bp_after\n",
              "0          143       153\n",
              "1          163       170\n",
              "2          153       168\n",
              "3          153       142\n",
              "4          146       141\n",
              "..         ...       ...\n",
              "115        152       152\n",
              "116        161       152\n",
              "117        165       174\n",
              "118        149       151\n",
              "119        185       163\n",
              "\n",
              "[120 rows x 2 columns]"
            ]
          },
          "metadata": {
            "tags": []
          },
          "execution_count": 63
        }
      ]
    },
    {
      "cell_type": "code",
      "metadata": {
        "id": "Wc3jjpXJWIfy",
        "outputId": "098549e8-1a1a-4d69-8c2d-d99046888c6c",
        "colab": {
          "base_uri": "https://localhost:8080/"
        }
      },
      "source": [
        "# Defining the hypothesis\n",
        "\n",
        "# null hypothesis\n",
        "H0 = \"The mean blood pressure before and after the experiment of the population doesn't differ\"\n",
        "# ie, before mean blood pressure and after mean blood pressure of the population is same\n",
        "print('The null hypothesis H0: %s\\n\\n' %(H0))\n",
        "\n",
        "# alternate hypothesis\n",
        "H1 = \"The mean blood pressure of population after the experiment is lower than mean blood pressure of the population before the experiment\"\n",
        "print('The alternate hypothesis H1: %s' %(H1))"
      ],
      "execution_count": null,
      "outputs": [
        {
          "output_type": "stream",
          "text": [
            "The null hypothesis H0: The mean blood pressure before and after the experiment of the population doesn't differ\n",
            "\n",
            "\n",
            "The alternate hypothesis H1: The mean blood pressure of population after the experiment is lower than mean blood pressure of the population before the experiment\n"
          ],
          "name": "stdout"
        }
      ]
    },
    {
      "cell_type": "code",
      "metadata": {
        "id": "EhTWu0QuYIo7",
        "outputId": "bf8695b8-ca62-4b89-975e-5b15823e7f19",
        "colab": {
          "base_uri": "https://localhost:8080/"
        }
      },
      "source": [
        "# before applying paired sample hypothesis,we have to figure out if the standard assumptions for t-test are satisfied or not\n",
        "\n",
        "# Normality test\n",
        "# according to standard assumptions of t-test, the population should be normal. Since, we have samples drawn from knowledge, we will use\n",
        "# Shapiro-wilk test to determine if these samples are drawn from a normally distributed population\n",
        "# shapiro-wilk normality test is a hypothesis testing of the null hypothesis \"the sample is drawn from a normally distributed population\"\n",
        "\n",
        "print('Testing normality of population from which \\\"before_bp\\\" sample is drawn\\n')\n",
        "before_testStatistics, before_pValue = stats.shapiro(df['bp_before'])\n",
        "\n",
        "print('test statistics: %f' %(before_testStatistics))\n",
        "print('p-value: %f\\n' %(before_pValue))\n",
        "\n",
        "if (before_pValue < 0.05):\n",
        "  print('Since, p-value < 0.05,')\n",
        "  print('Sample is not drawn from a normally distributed population\\n')\n",
        "else:\n",
        "  print('Since, p-value >= 0.05')\n",
        "  print('Sample is drawn from a normally distributed population\\n')\n",
        "\n",
        "\n",
        "print('Testing normality of population from which \\\"after_bp\\\" sample is drawn using shapiro-wilk normality test\\n')\n",
        "after_testStatistics, after_pValue = stats.shapiro(df['bp_after'])\n",
        "\n",
        "print('test Statistics: %f' %(after_testStatistics))\n",
        "print('p-value: %f' %(after_pValue))\n",
        "\n",
        "if (after_pValue < 0.05):\n",
        "  print('\\nSince, p-value < 0.05,')\n",
        "  print('Sample is not drawn from a normally distributed population')\n",
        "else:\n",
        "  print('\\nSince, p-value >= 0.05,')\n",
        "  print('Sample is drawn from a normally distributed population')\n"
      ],
      "execution_count": null,
      "outputs": [
        {
          "output_type": "stream",
          "text": [
            "Testing normality of population from which \"before_bp\" sample is drawn\n",
            "\n",
            "test statistics: 0.954779\n",
            "p-value: 0.000493\n",
            "\n",
            "Since, p-value < 0.05,\n",
            "Sample is not drawn from a normally distributed population\n",
            "\n",
            "Testing normality of population from which \"after_bp\" sample is drawn using shapiro-wilk normality test\n",
            "\n",
            "test Statistics: 0.974064\n",
            "p-value: 0.020228\n",
            "\n",
            "Since, p-value < 0.05,\n",
            "Sample is not drawn from a normally distributed population\n"
          ],
          "name": "stdout"
        }
      ]
    },
    {
      "cell_type": "code",
      "metadata": {
        "id": "Hlr5hxGhrlzv",
        "outputId": "4c545f9e-61cb-4776-9ddd-a74f3f0b6d96",
        "colab": {
          "base_uri": "https://localhost:8080/"
        }
      },
      "source": [
        "# now we perform paired sample t-test on both the samples to see if the null hypothesis is to be retained or rejected\n",
        "\n",
        "# computing the sample mean\n",
        "bp_before_mean = np.mean(df['bp_before'])\n",
        "bp_after_mean = np.mean(df['bp_after'])\n",
        "\n",
        "print('Mean of sample 1 (bp_before): %f' %(bp_before_mean))\n",
        "print('Mean of sample 2 (bp_after): %f' %(bp_after_mean))\n",
        "\n",
        "# performing paired sample t-test on the samples\n",
        "print('\\nPerforming paired sample t-test on the 2 samples\\n')\n",
        "tstatistics, pValue = stats.ttest_rel(df['bp_before'], df['bp_after'])\n",
        "\n",
        "print('T-Statistics: %f' %(tstatistics))\n",
        "print('p-Value: %f' %(pValue))\n",
        "\n",
        "# making decision on the basis of t-statistics and p-value regarding rejecting or retaining null hypothesis\n",
        "# here, one tail test is performed as we are sure that the drug reduces blood pressure and can't increase blood pressure. Thus, only one side of extreme sample mean is considered\n",
        "if (pValue < 0.05):\n",
        "  print('\\nSince, p-value < 0.05')\n",
        "  print('Thus, null hypothesis is rejected')\n",
        "  print('\\nSince, null hypothesis is rejected. Thus sample means are significant enough to be considered for rejecting null hypothesis')\n",
        "  print('Thus, the drug reduces the blood pressure')\n",
        "else:\n",
        "  print('\\nSince, p-value >= 0.05')\n",
        "  print('Thus, null hypothesis is retained')\n",
        "  print('\\nSince, null hypothesis is retained. Thus, sample means are not signifcant enough to be considered for rejecting null hypothesis and are just a random occurence')\n",
        "  print('Thus, null hypothesis is assumed to be true and is retained. Thus, the drug doesn\\'t reduce blood pressure')"
      ],
      "execution_count": null,
      "outputs": [
        {
          "output_type": "stream",
          "text": [
            "Mean of sample 1 (bp_before): 156.450000\n",
            "Mean of sample 2 (bp_after): 151.358333\n",
            "\n",
            "Performing paired sample t-test on the 2 samples\n",
            "\n",
            "T-Statistics: 3.337187\n",
            "p-Value: 0.001130\n",
            "\n",
            "Since, p-value < 0.05\n",
            "Thus, null hypothesis is rejected\n",
            "\n",
            "Since, null hypothesis is rejected. Thus sample means are significant enough to be considered for rejecting null hypothesis\n",
            "Thus, the drug reduces the blood pressure\n"
          ],
          "name": "stdout"
        }
      ]
    }
  ]
}