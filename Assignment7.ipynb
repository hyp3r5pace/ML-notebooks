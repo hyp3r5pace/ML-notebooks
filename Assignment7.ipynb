{
  "nbformat": 4,
  "nbformat_minor": 0,
  "metadata": {
    "colab": {
      "name": "Assignment7.ipynb",
      "provenance": [],
      "authorship_tag": "ABX9TyNBAuz7VFnO7Q6t9CxRtdVY",
      "include_colab_link": true
    },
    "kernelspec": {
      "name": "python3",
      "display_name": "Python 3"
    }
  },
  "cells": [
    {
      "cell_type": "markdown",
      "metadata": {
        "id": "view-in-github",
        "colab_type": "text"
      },
      "source": [
        "<a href=\"https://colab.research.google.com/github/hyp3r5pace/ML-notebooks/blob/main/Assignment7.ipynb\" target=\"_parent\"><img src=\"https://colab.research.google.com/assets/colab-badge.svg\" alt=\"Open In Colab\"/></a>"
      ]
    },
    {
      "cell_type": "markdown",
      "metadata": {
        "id": "3YHHkVHUIQwD"
      },
      "source": [
        "# **Question 1**\n"
      ]
    },
    {
      "cell_type": "markdown",
      "metadata": {
        "id": "jnCuU6NJIZBj"
      },
      "source": [
        "# **Part (a) and (b)**"
      ]
    },
    {
      "cell_type": "code",
      "metadata": {
        "id": "7PdQT-z6BL3w"
      },
      "source": [
        "# importing libraries\n",
        "\n",
        "import numpy as np\n",
        "import pandas as pd\n",
        "import random\n",
        "import matplotlib.pyplot as plt\n",
        "from sklearn import datasets\n",
        "import warnings\n",
        "import math\n",
        "import copy\n",
        "\n",
        "# to prevent ipython from priniting any warning\n",
        "warnings.filterwarnings('ignore')"
      ],
      "execution_count": null,
      "outputs": []
    },
    {
      "cell_type": "code",
      "metadata": {
        "id": "pJb07FxvLzSW",
        "outputId": "fe3ba7df-c6ba-42eb-a23b-003ab0be2134",
        "colab": {
          "base_uri": "https://localhost:8080/",
          "height": 252
        }
      },
      "source": [
        "# load the iris dataset\n",
        "\n",
        "iris = datasets.load_iris()\n",
        "\n",
        "# loading the feature sample dataset into a DataFrame\n",
        "df = pd.DataFrame(iris.data, columns=iris.feature_names)\n",
        "\n",
        "print(df)"
      ],
      "execution_count": null,
      "outputs": [
        {
          "output_type": "stream",
          "text": [
            "     sepal length (cm)  sepal width (cm)  petal length (cm)  petal width (cm)\n",
            "0                  5.1               3.5                1.4               0.2\n",
            "1                  4.9               3.0                1.4               0.2\n",
            "2                  4.7               3.2                1.3               0.2\n",
            "3                  4.6               3.1                1.5               0.2\n",
            "4                  5.0               3.6                1.4               0.2\n",
            "..                 ...               ...                ...               ...\n",
            "145                6.7               3.0                5.2               2.3\n",
            "146                6.3               2.5                5.0               1.9\n",
            "147                6.5               3.0                5.2               2.0\n",
            "148                6.2               3.4                5.4               2.3\n",
            "149                5.9               3.0                5.1               1.8\n",
            "\n",
            "[150 rows x 4 columns]\n"
          ],
          "name": "stdout"
        }
      ]
    },
    {
      "cell_type": "code",
      "metadata": {
        "id": "A5Y4z4K6MEdA"
      },
      "source": [
        "# function to calculate the distance between  two points\n",
        "def calcDistance(point_a, point_b):\n",
        "  # using euclidian distance\n",
        "  sum = 0\n",
        "  for i in range(len(point_a)):\n",
        "    sum += (point_a[i] - point_b[i]) ** 2\n",
        "  return math.sqrt(sum)\n",
        "\n",
        "# function to assign cluster to datapoints on the basis of a set of centroids\n",
        "def assignCluster(centroidPoints, dataPoints):\n",
        "  assignedCluster = [None for i in range(len(dataPoints))]\n",
        "  for i in range(len(dataPoints)):\n",
        "    min, temp = float('Inf'), 0\n",
        "    for j in range(len(centroidPoints)):\n",
        "      dist = calcDistance(centroidPoints[j], dataPoints[i])\n",
        "      if (dist < min):\n",
        "        min = dist\n",
        "        temp = j\n",
        "    assignedCluster[i] = temp\n",
        "  \n",
        "  return assignedCluster\n",
        "\n",
        "# function to calculate new centroid points on the basis of average of points assgined to each cluster\n",
        "def calcNewCentroid(assignedCluster, dataPoints, k):\n",
        "  newCentroids = []\n",
        "  for i in range(k):\n",
        "    sum, count = [0, 0, 0, 0], 0\n",
        "    #print(assignedCluster)\n",
        "    for j in range(len(assignedCluster)):\n",
        "      if (assignedCluster[j] == i):\n",
        "        sum = [sum[p] + dataPoints[j][p] for p in range(4)]\n",
        "        count += 1\n",
        "    newCentroids.append([(sum[p] / count) for p in range(4)])\n",
        "  return newCentroids\n",
        "\n",
        "# function to perform the K-Mean Clustering\n",
        "def kMeanClustering(startingPoint, dataPoints):\n",
        "  # assigning cluster to the data points\n",
        "  assignedCluster = assignCluster(startingPoint, dataPoints)\n",
        "\n",
        "  oldCentroids = copy.deepcopy(startingPoint)\n",
        "  # computing the new centroid points by finding the average of all the points in the cluster\n",
        "  newCentroids = calcNewCentroid(assignedCluster, dataPoints, len(startingPoint))\n",
        "  \n",
        "  # assigning cluster points according to thew newly computed centroid points\n",
        "  newAssignedCluster = assignCluster(newCentroids, dataPoints)\n",
        "  \n",
        "  # loop to keep evaluating new cnetroid and cluster assignment until no change\n",
        "  while (True):\n",
        "    change = 0\n",
        "    for val in zip(assignedCluster, newAssignedCluster):\n",
        "      if (val[0] != val[1]):\n",
        "        change = 1\n",
        "        break\n",
        "    \n",
        "    if (change == 0): break\n",
        "\n",
        "    # compute the new centroid points\n",
        "    oldCentroids = newCentroids\n",
        "    newCentroids = calcNewCentroid(newAssignedCluster, dataPoints, len(oldCentroids))\n",
        "\n",
        "    # compute the new cluster assignment for the new centroid points\n",
        "    assignedCluster = newAssignedCluster\n",
        "    newAssignedCluster = assignCluster(newCentroids, dataPoints)\n",
        "\n",
        "  return newCentroids\n",
        "\n",
        "# the K mean score we are considering is the average intra cluster distance for a certain value of k and set of centroids\n",
        "def clusterEvaluation(centroids, dataPoints):\n",
        "  # assign the cluster to each of the datapoints on the basis of the centroid\n",
        "  assignedCluster = assignCluster(centroids, dataPoints)\n",
        "\n",
        "  interClusterDistSum = [0 for i in range(len(centroids))]\n",
        "\n",
        "  for i in range(len(assignedCluster)):\n",
        "    interClusterDistSum[assignedCluster[i]] += calcDistance(centroids[assignedCluster[i]], dataPoints[i])\n",
        "  \n",
        "  return sum(interClusterDistSum) / len(interClusterDistSum)  # it returns the k mean score of a cluster"
      ],
      "execution_count": null,
      "outputs": []
    },
    {
      "cell_type": "code",
      "metadata": {
        "id": "F3Z_Gb-PUHMM"
      },
      "source": [
        "# converting the panadas dataframe to list\n",
        "dataPoints = df.values.tolist()\n",
        "\n",
        "# initializing the value of k with 2\n",
        "k =  2\n",
        "index = [i for i in range(150)]\n",
        "efficient_centroid = [0 for i in range(17)]\n",
        "best_k_cluster_metrics = [0 for i in range(17)]\n",
        "while (k <= 18):\n",
        "  # generating 15 different sets of starting points for the certain value of k\n",
        "  starting_points = []\n",
        "  for i in range(15):\n",
        "    temp = []\n",
        "    for j in range(k):\n",
        "      random.seed(j + k)\n",
        "      randIndex = random.sample(index, 18)\n",
        "      temp.append(copy.deepcopy(dataPoints[randIndex[random.choice([x for x in range(18)])]]))\n",
        "    starting_points.append(temp)\n",
        "  \n",
        "  clusteringMetrics = []\n",
        "  centroid_list = []\n",
        "  for i in range(15):\n",
        "    #print(starting_points[i])\n",
        "    centroidPoints = kMeanClustering(starting_points[i], dataPoints)\n",
        "    centroid_list.append(centroidPoints)\n",
        "    clusteringMetrics.append(clusterEvaluation(centroidPoints, dataPoints))\n",
        "  \n",
        "  # finding the best starting point for each k value\n",
        "  min, temp = float('Inf'), 0\n",
        "  for i in range(len(clusteringMetrics)):\n",
        "    if (clusteringMetrics[i] < min):\n",
        "      min = clusteringMetrics[i]\n",
        "      temp = i\n",
        "  \n",
        "  efficient_centroid[k-2] = centroid_list[temp]\n",
        "  best_k_cluster_metrics[k-2] = clusteringMetrics[temp] \n",
        "\n",
        "  k += 1"
      ],
      "execution_count": null,
      "outputs": []
    },
    {
      "cell_type": "code",
      "metadata": {
        "id": "dBeNrzFc1LYz",
        "outputId": "a04f9dda-7f73-4867-ccc0-809beb489a3a",
        "colab": {
          "base_uri": "https://localhost:8080/",
          "height": 1000
        }
      },
      "source": [
        "for i in range(len(efficient_centroid)):\n",
        "  print('centroid point for K = %d Mean clustering algorithm' %(i+2))\n",
        "  print(efficient_centroid[i])\n",
        "  print('K mean score of this cluster = %d' %(best_k_cluster_metrics[i]))\n",
        "  print('\\n')"
      ],
      "execution_count": null,
      "outputs": [
        {
          "output_type": "stream",
          "text": [
            "centroid point for K = 2 Mean clustering algorithm\n",
            "[[6.30103092783505, 2.8865979381443303, 4.958762886597939, 1.6958762886597945], [5.005660377358491, 3.369811320754718, 1.560377358490566, 0.29056603773584894]]\n",
            "K mean score of this cluster = 64\n",
            "\n",
            "\n",
            "centroid point for K = 3 Mean clustering algorithm\n",
            "[[4.7318181818181815, 2.9272727272727277, 1.7727272727272727, 0.35000000000000003], [6.314583333333331, 2.8958333333333335, 4.973958333333335, 1.7031250000000007], [5.19375, 3.6312499999999996, 1.4749999999999999, 0.2718749999999999]]\n",
            "K mean score of this cluster = 41\n",
            "\n",
            "\n",
            "centroid point for K = 4 Mean clustering algorithm\n",
            "[[5.88360655737705, 2.740983606557377, 4.388524590163935, 1.4344262295081966], [5.370588235294117, 3.8, 1.5176470588235293, 0.2764705882352942], [4.818181818181818, 3.236363636363636, 1.4333333333333331, 0.23030303030303034], [6.853846153846153, 3.0769230769230766, 5.715384615384615, 2.053846153846153]]\n",
            "K mean score of this cluster = 22\n",
            "\n",
            "\n",
            "centroid point for K = 5 Mean clustering algorithm\n",
            "[[5.063157894736842, 3.4421052631578943, 1.4999999999999998, 0.2736842105263158], [4.6611111111111105, 3.0777777777777784, 1.3888888888888888, 0.20000000000000007], [6.853846153846153, 3.0769230769230766, 5.715384615384615, 2.053846153846153], [5.4, 3.8923076923076922, 1.5076923076923079, 0.2692307692307693], [5.88360655737705, 2.740983606557377, 4.388524590163935, 1.4344262295081966]]\n",
            "K mean score of this cluster = 17\n",
            "\n",
            "\n",
            "centroid point for K = 6 Mean clustering algorithm\n",
            "[[4.6611111111111105, 3.0777777777777784, 1.3888888888888888, 0.20000000000000007], [6.2525, 2.8549999999999995, 4.8149999999999995, 1.6249999999999996], [5.4, 3.8923076923076922, 1.5076923076923079, 0.2692307692307693], [5.532142857142857, 2.6357142857142857, 3.960714285714286, 1.2285714285714289], [6.9125000000000005, 3.099999999999999, 5.846874999999999, 2.1312499999999996], [5.063157894736842, 3.4421052631578943, 1.4999999999999998, 0.2736842105263158]]\n",
            "K mean score of this cluster = 12\n",
            "\n",
            "\n",
            "centroid point for K = 7 Mean clustering algorithm\n",
            "[[6.229729729729731, 2.8513513513513513, 4.767567567567568, 1.5729729729729722], [5.4, 3.8923076923076922, 1.5076923076923079, 0.2692307692307693], [5.529629629629629, 2.6222222222222222, 3.940740740740741, 1.2185185185185188], [6.529166666666666, 3.0583333333333336, 5.508333333333333, 2.1624999999999996], [5.040000000000001, 3.4499999999999993, 1.4749999999999999, 0.27], [7.475000000000001, 3.125, 6.3, 2.0500000000000003], [4.664705882352941, 3.047058823529412, 1.4117647058823528, 0.20000000000000004]]\n",
            "K mean score of this cluster = 9\n",
            "\n",
            "\n",
            "centroid point for K = 8 Mean clustering algorithm\n",
            "[[5.283333333333334, 3.7249999999999996, 1.5416666666666667, 0.2833333333333334], [5.532142857142857, 2.6357142857142857, 3.960714285714286, 1.2285714285714289], [6.247222222222223, 2.847222222222222, 4.775, 1.5749999999999995], [4.9941176470588236, 3.441176470588235, 1.4588235294117646, 0.25882352941176473], [7.475000000000001, 3.125, 6.3, 2.0500000000000003], [4.664705882352941, 3.047058823529412, 1.4117647058823528, 0.20000000000000004], [6.529166666666666, 3.0583333333333336, 5.508333333333333, 2.1624999999999996], [5.675, 4.1, 1.4500000000000002, 0.275]]\n",
            "K mean score of this cluster = 8\n",
            "\n",
            "\n",
            "centroid point for K = 9 Mean clustering algorithm\n",
            "[[5.999999999999997, 2.8720000000000003, 4.376, 1.3519999999999999], [6.216, 2.82, 4.9559999999999995, 1.7159999999999993], [5.147619047619047, 3.5428571428571423, 1.5095238095238093, 0.28095238095238095], [7.475000000000001, 3.125, 6.3, 2.0500000000000003], [4.4, 2.88, 1.2799999999999998, 0.2], [6.568181818181818, 3.0863636363636364, 5.536363636363637, 2.1636363636363636], [5.528571428571428, 4.042857142857143, 1.4714285714285715, 0.2857142857142857], [5.4125000000000005, 2.4687499999999996, 3.74375, 1.16875], [4.7941176470588225, 3.194117647058824, 1.452941176470588, 0.20000000000000004]]\n",
            "K mean score of this cluster = 7\n",
            "\n",
            "\n",
            "centroid point for K = 10 Mean clustering algorithm\n",
            "[[6.027777777777777, 2.7333333333333334, 5.027777777777776, 1.7944444444444443], [5.147619047619047, 3.5428571428571423, 1.5095238095238093, 0.28095238095238095], [7.475000000000001, 3.125, 6.3, 2.0500000000000003], [4.4, 2.88, 1.2799999999999998, 0.2], [6.568181818181818, 3.0863636363636364, 5.536363636363637, 2.1636363636363636], [5.528571428571428, 4.042857142857143, 1.4714285714285715, 0.2857142857142857], [5.392307692307692, 2.4384615384615382, 3.6538461538461537, 1.123076923076923], [4.7941176470588225, 3.194117647058824, 1.452941176470588, 0.20000000000000004], [6.633333333333334, 3.033333333333333, 4.633333333333333, 1.4583333333333337], [5.817391304347825, 2.8043478260869565, 4.3304347826086955, 1.3478260869565217]]\n",
            "K mean score of this cluster = 5\n",
            "\n",
            "\n",
            "centroid point for K = 11 Mean clustering algorithm\n",
            "[[5.06, 3.5, 1.35, 0.21000000000000002], [7.475000000000001, 3.125, 6.3, 2.0500000000000003], [4.4, 2.88, 1.2799999999999998, 0.2], [6.560869565217391, 3.069565217391304, 5.5260869565217385, 2.152173913043478], [5.619999999999999, 4.0600000000000005, 1.42, 0.3], [5.512499999999999, 2.5833333333333335, 3.883333333333333, 1.1916666666666667], [4.792307692307692, 3.1230769230769235, 1.446153846153846, 0.2], [6.460000000000001, 2.8899999999999997, 4.64, 1.43], [5.909523809523809, 2.823809523809524, 4.852380952380952, 1.7285714285714284], [5.066666666666666, 3.3999999999999995, 1.6222222222222222, 0.32222222222222224], [5.2124999999999995, 3.8124999999999996, 1.5875, 0.2750000000000001]]\n",
            "K mean score of this cluster = 5\n",
            "\n",
            "\n",
            "centroid point for K = 12 Mean clustering algorithm\n",
            "[[7.475000000000001, 3.125, 6.3, 2.0500000000000003], [4.668749999999999, 3.0250000000000004, 1.4124999999999999, 0.19375], [6.568181818181818, 3.0863636363636364, 5.536363636363637, 2.1636363636363636], [5.619999999999999, 4.0600000000000005, 1.42, 0.3], [5.392307692307692, 2.4384615384615382, 3.6538461538461537, 1.123076923076923], [4.871428571428572, 3.4571428571428577, 1.3, 0.21428571428571425], [6.52, 3.0466666666666664, 4.626666666666666, 1.4600000000000002], [5.7058823529411775, 2.817647058823529, 4.247058823529412, 1.3294117647058825], [5.092307692307693, 3.4230769230769225, 1.5615384615384618, 0.2923076923076924], [5.244444444444444, 3.7777777777777777, 1.5555555555555556, 0.2666666666666668], [6.180000000000001, 2.4, 4.7, 1.4], [6.0125, 2.7812500000000004, 5.037499999999999, 1.83125]]\n",
            "K mean score of this cluster = 4\n",
            "\n",
            "\n",
            "centroid point for K = 13 Mean clustering algorithm\n",
            "[[4.668749999999999, 3.0250000000000004, 1.4124999999999999, 0.19375], [7.475000000000001, 3.125, 6.3, 2.0500000000000003], [5.6, 4.125, 1.35, 0.3], [5.327272727272728, 2.454545454545454, 3.590909090909091, 1.1181818181818182], [4.8500000000000005, 3.433333333333333, 1.2833333333333332, 0.21666666666666665], [6.5, 3.0374999999999996, 4.606249999999999, 1.4500000000000002], [5.6647058823529415, 2.7941176470588234, 4.229411764705882, 1.3294117647058823], [5.0, 3.439999999999999, 1.56, 0.30000000000000004], [5.166666666666667, 3.8499999999999996, 1.6166666666666665, 0.3], [6.150000000000001, 2.3666666666666667, 4.583333333333333, 1.3333333333333333], [6.0125, 2.7812500000000004, 5.037499999999999, 1.83125], [6.568181818181818, 3.0863636363636364, 5.536363636363637, 2.1636363636363636], [5.387499999999999, 3.55, 1.5125000000000002, 0.2375]]\n",
            "K mean score of this cluster = 4\n",
            "\n",
            "\n",
            "centroid point for K = 14 Mean clustering algorithm\n",
            "[[7.475000000000001, 3.125, 6.3, 2.0500000000000003], [5.666666666666667, 4.2, 1.3666666666666665, 0.26666666666666666], [5.327272727272728, 2.454545454545454, 3.590909090909091, 1.1181818181818182], [4.6611111111111105, 3.0777777777777784, 1.3888888888888888, 0.20000000000000007], [6.722222222222223, 3.0000000000000004, 4.677777777777778, 1.4555555555555555], [5.643750000000001, 2.7875, 4.2125, 1.31875], [4.992857142857143, 3.428571428571428, 1.492857142857143, 0.27142857142857146], [5.185714285714285, 3.8285714285714283, 1.5999999999999999, 0.2857142857142857], [6.16, 2.28, 4.5600000000000005, 1.3599999999999999], [6.568181818181818, 3.0863636363636364, 5.536363636363637, 2.1636363636363636], [6.02, 2.7533333333333343, 5.053333333333332, 1.8333333333333333], [5.300000000000001, 3.4250000000000003, 1.525, 0.25], [5.5, 3.7249999999999996, 1.45, 0.275], [6.15, 3.05, 4.5600000000000005, 1.4600000000000002]]\n",
            "K mean score of this cluster = 3\n",
            "\n",
            "\n",
            "centroid point for K = 15 Mean clustering algorithm\n",
            "[[5.666666666666667, 4.2, 1.3666666666666665, 0.26666666666666666], [5.7, 2.5500000000000003, 3.875, 1.15], [4.8500000000000005, 3.433333333333333, 1.2833333333333332, 0.21666666666666665], [7.475000000000001, 3.125, 6.3, 2.0500000000000003], [5.541666666666668, 2.8333333333333335, 4.275000000000001, 1.375], [5.0, 3.439999999999999, 1.56, 0.30000000000000004], [5.185714285714285, 3.8285714285714283, 1.5999999999999999, 0.2857142857142857], [6.2, 2.3, 4.7, 1.45], [6.568181818181818, 3.0863636363636364, 5.536363636363637, 2.1636363636363636], [6.0125, 2.7812500000000004, 5.037499999999999, 1.83125], [5.300000000000001, 3.4250000000000003, 1.525, 0.25], [5.5, 3.7249999999999996, 1.45, 0.275], [6.45, 3.0166666666666666, 4.605555555555555, 1.438888888888889], [4.668749999999999, 3.0250000000000004, 1.4124999999999999, 0.19375], [5.0, 2.3, 3.275, 1.025]]\n",
            "K mean score of this cluster = 3\n",
            "\n",
            "\n",
            "centroid point for K = 16 Mean clustering algorithm\n",
            "[[5.7, 2.5500000000000003, 3.875, 1.15], [4.8500000000000005, 3.433333333333333, 1.2833333333333332, 0.21666666666666665], [6.800000000000001, 3.0500000000000003, 4.75, 1.4833333333333332], [5.541666666666668, 2.8333333333333335, 4.275000000000001, 1.375], [5.0, 3.439999999999999, 1.56, 0.30000000000000004], [5.185714285714285, 3.8285714285714283, 1.5999999999999999, 0.2857142857142857], [6.25, 2.25, 4.45, 1.4], [6.06, 3.18, 4.74, 1.72], [6.033333333333333, 2.666666666666667, 5.0666666666666655, 1.7933333333333332], [5.3500000000000005, 3.483333333333333, 1.4833333333333334, 0.23333333333333336], [5.619999999999999, 4.0600000000000005, 1.42, 0.3], [6.300000000000001, 2.9299999999999997, 4.52, 1.3800000000000001], [4.668749999999999, 3.0250000000000004, 1.4124999999999999, 0.19375], [5.0, 2.3, 3.275, 1.025], [6.568181818181818, 3.0863636363636364, 5.536363636363637, 2.1636363636363636], [7.475000000000001, 3.125, 6.3, 2.0500000000000003]]\n",
            "K mean score of this cluster = 3\n",
            "\n",
            "\n",
            "centroid point for K = 17 Mean clustering algorithm\n",
            "[[4.8500000000000005, 3.433333333333333, 1.2833333333333332, 0.21666666666666665], [6.722222222222223, 3.0000000000000004, 4.677777777777778, 1.4555555555555555], [5.540000000000001, 2.83, 4.32, 1.3599999999999999], [5.0, 3.439999999999999, 1.56, 0.30000000000000004], [5.185714285714285, 3.8285714285714283, 1.5999999999999999, 0.2857142857142857], [6.25, 2.25, 4.45, 1.4], [6.116666666666667, 3.1833333333333336, 4.7, 1.6833333333333336], [6.0, 2.6692307692307695, 5.007692307692308, 1.8153846153846152], [5.3500000000000005, 3.483333333333333, 1.4833333333333334, 0.23333333333333336], [5.619999999999999, 4.0600000000000005, 1.42, 0.3], [6.112500000000001, 2.9, 4.4125, 1.3625], [4.668749999999999, 3.0250000000000004, 1.4124999999999999, 0.19375], [5.625, 2.5416666666666665, 3.8666666666666667, 1.1583333333333332], [6.419999999999999, 2.8600000000000003, 5.48, 1.8800000000000001], [6.628571428571429, 3.185714285714286, 5.564285714285715, 2.292857142857143], [5.0, 2.3, 3.275, 1.025], [7.475000000000001, 3.125, 6.3, 2.0500000000000003]]\n",
            "K mean score of this cluster = 2\n",
            "\n",
            "\n",
            "centroid point for K = 18 Mean clustering algorithm\n",
            "[[6.800000000000001, 3.0500000000000003, 4.75, 1.4833333333333332], [5.616666666666668, 2.841666666666667, 4.283333333333334, 1.366666666666667], [4.992307692307692, 3.446153846153846, 1.5153846153846153, 0.27692307692307694], [5.185714285714285, 3.8285714285714283, 1.5999999999999999, 0.2857142857142857], [6.25, 2.25, 4.45, 1.4], [6.233333333333333, 3.3000000000000003, 4.566666666666666, 1.5666666666666667], [6.2, 2.6000000000000005, 4.971428571428571, 1.657142857142857], [5.3500000000000005, 3.483333333333333, 1.4833333333333334, 0.23333333333333336], [5.619999999999999, 4.0600000000000005, 1.42, 0.3], [6.288888888888889, 2.8999999999999995, 4.522222222222222, 1.3666666666666667], [4.678947368421052, 3.08421052631579, 1.3789473684210527, 0.20000000000000007], [5.625, 2.5416666666666665, 3.8666666666666667, 1.1583333333333332], [6.419999999999999, 2.8600000000000003, 5.48, 1.8800000000000001], [6.628571428571429, 3.185714285714286, 5.564285714285715, 2.292857142857143], [5.0, 2.3, 3.275, 1.025], [7.475000000000001, 3.125, 6.3, 2.0500000000000003], [5.74, 2.7, 5.040000000000001, 2.04], [5.975, 3.05, 4.9, 1.8]]\n",
            "K mean score of this cluster = 2\n",
            "\n",
            "\n"
          ],
          "name": "stdout"
        }
      ]
    },
    {
      "cell_type": "code",
      "metadata": {
        "id": "qS-easWP--0A",
        "outputId": "89309fd6-460e-469a-950d-af1dce99ab1b",
        "colab": {
          "base_uri": "https://localhost:8080/",
          "height": 295
        }
      },
      "source": [
        "ticks = [x for x in range(2, 19)]\n",
        "plt.plot(ticks, best_k_cluster_metrics)\n",
        "plt.xlabel('Number of clusters (k)')\n",
        "plt.ylabel('average intra cluster distance')\n",
        "plt.title('Elbow Method')\n",
        "plt.xticks(ticks)\n",
        "plt.show()"
      ],
      "execution_count": null,
      "outputs": [
        {
          "output_type": "display_data",
          "data": {
            "image/png": "[encoded data removed]",
            "text/plain": [
              "<Figure size 432x288 with 1 Axes>"
            ]
          },
          "metadata": {
            "tags": [],
            "needs_background": "light"
          }
        }
      ]
    },
    {
      "cell_type": "markdown",
      "metadata": {
        "id": "S4lR9BhEIrcj"
      },
      "source": [
        "# **The appropiate value of k**\n",
        "\n",
        "From the above graph and metrics, it is clear that **K = 7** is the appropiate cluster number for clustring the IRIS dataset, since an elbow is formed at K = 7 and the graph of K mean score (average intra cluster distance) v/s number of clusters starts to become close to flatline at k = 7"
      ]
    },
    {
      "cell_type": "markdown",
      "metadata": {
        "id": "U42d-FRRJwax"
      },
      "source": [
        "# **Part (c)**"
      ]
    },
    {
      "cell_type": "markdown",
      "metadata": {
        "id": "VtdEWyGzJ1_Q"
      },
      "source": [
        "**K means using in-built functions**"
      ]
    },
    {
      "cell_type": "code",
      "metadata": {
        "id": "lv--lv9vJ6bG"
      },
      "source": [
        "from sklearn.cluster import KMeans\n",
        "\n",
        "kMeanScore = []\n",
        "\n",
        "for i in range(2, 20):\n",
        "  kmeans = KMeans(n_clusters = i, init='k-means++', n_init = 15, random_state = 0)\n",
        "  kmeans.fit(dataPoints)\n",
        "  kMeanScore.append(kmeans.inertia_)"
      ],
      "execution_count": null,
      "outputs": []
    },
    {
      "cell_type": "code",
      "metadata": {
        "id": "BlTQXSU5NkOO",
        "outputId": "da558ab6-5524-45aa-d8f9-89c5184501dc",
        "colab": {
          "base_uri": "https://localhost:8080/",
          "height": 295
        }
      },
      "source": [
        "ticks = [x for x in range(2, 20)]\n",
        "plt.plot(ticks, kMeanScore)\n",
        "plt.xlabel('Number of clusters (k)')\n",
        "plt.ylabel('K Mean Score')\n",
        "plt.title('Elbow Method')\n",
        "plt.xticks(ticks=ticks)\n",
        "plt.show()"
      ],
      "execution_count": null,
      "outputs": [
        {
          "output_type": "display_data",
          "data": {
            "image/png": "[encoded data removed]",
            "text/plain": [
              "<Figure size 432x288 with 1 Axes>"
            ]
          },
          "metadata": {
            "tags": [],
            "needs_background": "light"
          }
        }
      ]
    },
    {
      "cell_type": "markdown",
      "metadata": {
        "id": "hrmLUIO4QHFK"
      },
      "source": [
        "# **Appropiate value of K**\n",
        "\n",
        "From the above elbow curve, it is obvious that the curve has started to flatline near at **k = 7**\n",
        "Thus, elbow curves generated by both k mean code from scratch and in-built function are similar.\n",
        "Thus, k = 7 is the appropiate cluster number for clustering the IRIS dataset"
      ]
    }
  ]
}